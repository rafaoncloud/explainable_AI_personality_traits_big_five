{
 "cells": [
  {
   "cell_type": "code",
   "execution_count": 1,
   "metadata": {},
   "outputs": [],
   "source": [
    "import pandas as pd\n",
    "import numpy as np\n",
    "import matplotlib.pyplot as plt\n",
    "import seaborn as sns\n",
    "\n",
    "import matplotlib as mpl\n",
    "mpl.rcParams['figure.dpi'] = 120\n",
    "\n",
    "# Show all columns\n",
    "pd.options.display.max_columns = None\n",
    "pd.options.display.max_rows = None"
   ]
  },
  {
   "cell_type": "code",
   "execution_count": 31,
   "metadata": {},
   "outputs": [],
   "source": [
    "df_LR = pd.read_csv('results_LIME/personality_traits_results - LIME_LR.csv', index_col=None)\n",
    "df_SVM = pd.read_csv('results_LIME/personality_traits_results - LIME_SVM.csv', index_col=None)\n",
    "df_KNN = pd.read_csv('results_LIME/personality_traits_results - LIME_KNN.csv', index_col=None)\n",
    "df_LDA = pd.read_csv('results_LIME/personality_traits_results - LIME_LDA.csv', index_col=None)\n",
    "df_RF = pd.read_csv('results_LIME/personality_traits_results - LIME_RF.csv', index_col=None)"
   ]
  },
  {
   "cell_type": "code",
   "execution_count": 32,
   "metadata": {},
   "outputs": [
    {
     "data": {
      "text/plain": [
       "dur_Shopping     25\n",
       "freq_Shopping     6\n",
       "freq_Medical      3\n",
       "freq_Unknown      1\n",
       "Name: most_contribute, dtype: int64"
      ]
     },
     "execution_count": 32,
     "metadata": {},
     "output_type": "execute_result"
    }
   ],
   "source": [
    "df_LR[df_LR['trait'] == 'Extraversion']['most_contribute'].value_counts()"
   ]
  },
  {
   "cell_type": "code",
   "execution_count": 33,
   "metadata": {},
   "outputs": [
    {
     "data": {
      "text/plain": [
       "freq_Unknown          19\n",
       "freq_Social           15\n",
       "freq_Communication     1\n",
       "Name: most_contribute, dtype: int64"
      ]
     },
     "execution_count": 33,
     "metadata": {},
     "output_type": "execute_result"
    }
   ],
   "source": [
    "df_SVM[df_SVM['trait'] == 'Extraversion']['most_contribute'].value_counts()"
   ]
  },
  {
   "cell_type": "code",
   "execution_count": 34,
   "metadata": {},
   "outputs": [
    {
     "data": {
      "text/plain": [
       "freq_Communication    26\n",
       "freq_Unknown           6\n",
       "freq_Social            3\n",
       "Name: most_contribute, dtype: int64"
      ]
     },
     "execution_count": 34,
     "metadata": {},
     "output_type": "execute_result"
    }
   ],
   "source": [
    "df_KNN[df_KNN['trait'] == 'Extraversion']['most_contribute'].value_counts()"
   ]
  },
  {
   "cell_type": "code",
   "execution_count": 35,
   "metadata": {},
   "outputs": [
    {
     "data": {
      "text/plain": [
       "dur_Personalization    26\n",
       "freq_calls              6\n",
       "freq_Unknown            3\n",
       "Name: most_contribute, dtype: int64"
      ]
     },
     "execution_count": 35,
     "metadata": {},
     "output_type": "execute_result"
    }
   ],
   "source": [
    "df_LDA[df_LDA['trait'] == 'Extraversion']['most_contribute'].value_counts()"
   ]
  },
  {
   "cell_type": "code",
   "execution_count": 36,
   "metadata": {},
   "outputs": [
    {
     "data": {
      "text/plain": [
       "freq_calls            17\n",
       "dur_Shopping          15\n",
       "freq_Music...Audio     1\n",
       "dur_Productivity       1\n",
       "dur_calls              1\n",
       "Name: most_contribute, dtype: int64"
      ]
     },
     "execution_count": 36,
     "metadata": {},
     "output_type": "execute_result"
    }
   ],
   "source": [
    "df_RF[df_RF['trait'] == 'Extraversion']['most_contribute'].value_counts()"
   ]
  },
  {
   "cell_type": "code",
   "execution_count": null,
   "metadata": {},
   "outputs": [],
   "source": []
  },
  {
   "cell_type": "code",
   "execution_count": null,
   "metadata": {},
   "outputs": [],
   "source": []
  }
 ],
 "metadata": {
  "kernelspec": {
   "display_name": "Python 3",
   "language": "python",
   "name": "python3"
  },
  "language_info": {
   "codemirror_mode": {
    "name": "ipython",
    "version": 3
   },
   "file_extension": ".py",
   "mimetype": "text/x-python",
   "name": "python",
   "nbconvert_exporter": "python",
   "pygments_lexer": "ipython3",
   "version": "3.7.4"
  }
 },
 "nbformat": 4,
 "nbformat_minor": 2
}
