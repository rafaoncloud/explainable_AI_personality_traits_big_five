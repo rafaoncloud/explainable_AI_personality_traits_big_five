{
 "cells": [
  {
   "cell_type": "markdown",
   "metadata": {},
   "source": [
    "# Skater\n",
    "\n",
    "Python Library for Model Interpretation/Explanations\n",
    "\n",
    "https://github.com/oracle/Skater"
   ]
  },
  {
   "cell_type": "code",
   "execution_count": 1,
   "metadata": {},
   "outputs": [],
   "source": [
    "import pandas as pd\n",
    "import numpy as np\n",
    "import matplotlib.pyplot as plt\n",
    "import seaborn as sns\n",
    "\n",
    "import matplotlib as mpl\n",
    "mpl.rcParams['figure.dpi'] = 120\n",
    "\n",
    "# Show all columns\n",
    "pd.options.display.max_columns = None\n",
    "pd.options.display.max_rows = None\n",
    "\n",
    "%matplotlib inline"
   ]
  },
  {
   "cell_type": "code",
   "execution_count": 2,
   "metadata": {},
   "outputs": [
    {
     "name": "stdout",
     "output_type": "stream",
     "text": [
      "(137, 63)\n"
     ]
    },
    {
     "data": {
      "text/html": [
       "<div>\n",
       "<style scoped>\n",
       "    .dataframe tbody tr th:only-of-type {\n",
       "        vertical-align: middle;\n",
       "    }\n",
       "\n",
       "    .dataframe tbody tr th {\n",
       "        vertical-align: top;\n",
       "    }\n",
       "\n",
       "    .dataframe thead th {\n",
       "        text-align: right;\n",
       "    }\n",
       "</style>\n",
       "<table border=\"1\" class=\"dataframe\">\n",
       "  <thead>\n",
       "    <tr style=\"text-align: right;\">\n",
       "      <th></th>\n",
       "      <th>Gender</th>\n",
       "      <th>Age</th>\n",
       "      <th>Education_lev</th>\n",
       "      <th>fluidIQ</th>\n",
       "      <th>freq_calls</th>\n",
       "      <th>freq_Tools</th>\n",
       "      <th>freq_Finance</th>\n",
       "      <th>freq_Games</th>\n",
       "      <th>freq_Entertainment</th>\n",
       "      <th>freq_Productivity</th>\n",
       "      <th>freq_Personalization</th>\n",
       "      <th>freq_News...Magazines</th>\n",
       "      <th>freq_Unknown</th>\n",
       "      <th>freq_Photography</th>\n",
       "      <th>freq_Shopping</th>\n",
       "      <th>freq_Communication</th>\n",
       "      <th>freq_Books...Reference</th>\n",
       "      <th>freq_Travel...Local</th>\n",
       "      <th>freq_Music...Audio</th>\n",
       "      <th>freq_Medical</th>\n",
       "      <th>freq_Education</th>\n",
       "      <th>freq_Business</th>\n",
       "      <th>freq_Lifestyle</th>\n",
       "      <th>freq_Transportation</th>\n",
       "      <th>freq_Weather</th>\n",
       "      <th>freq_Sports</th>\n",
       "      <th>freq_Browser</th>\n",
       "      <th>freq_Health...Fitness</th>\n",
       "      <th>freq_Media...Video</th>\n",
       "      <th>freq_Social</th>\n",
       "      <th>freq_Comics</th>\n",
       "      <th>dur_calls</th>\n",
       "      <th>dur_Tools</th>\n",
       "      <th>dur_Finance</th>\n",
       "      <th>dur_Games</th>\n",
       "      <th>dur_Entertainment</th>\n",
       "      <th>dur_Productivity</th>\n",
       "      <th>dur_Personalization</th>\n",
       "      <th>dur_News...Magazines</th>\n",
       "      <th>dur_Unknown</th>\n",
       "      <th>dur_Photography</th>\n",
       "      <th>dur_Shopping</th>\n",
       "      <th>dur_Communication</th>\n",
       "      <th>dur_Books...Reference</th>\n",
       "      <th>dur_Travel...Local</th>\n",
       "      <th>dur_Music...Audio</th>\n",
       "      <th>dur_Medical</th>\n",
       "      <th>dur_Education</th>\n",
       "      <th>dur_Business</th>\n",
       "      <th>dur_Lifestyle</th>\n",
       "      <th>dur_Transportation</th>\n",
       "      <th>dur_Weather</th>\n",
       "      <th>dur_Sports</th>\n",
       "      <th>dur_Browser</th>\n",
       "      <th>dur_Health...Fitness</th>\n",
       "      <th>dur_Media...Video</th>\n",
       "      <th>dur_Social</th>\n",
       "      <th>dur_Comics</th>\n",
       "      <th>Emotional Stability</th>\n",
       "      <th>Extraversion</th>\n",
       "      <th>Openness</th>\n",
       "      <th>Conscientiousness</th>\n",
       "      <th>Agreeableness</th>\n",
       "    </tr>\n",
       "  </thead>\n",
       "  <tbody>\n",
       "    <tr>\n",
       "      <td>0</td>\n",
       "      <td>1</td>\n",
       "      <td>23</td>\n",
       "      <td>4</td>\n",
       "      <td>0.7251</td>\n",
       "      <td>120</td>\n",
       "      <td>414</td>\n",
       "      <td>0</td>\n",
       "      <td>40</td>\n",
       "      <td>51</td>\n",
       "      <td>553</td>\n",
       "      <td>0</td>\n",
       "      <td>8</td>\n",
       "      <td>31</td>\n",
       "      <td>260</td>\n",
       "      <td>52</td>\n",
       "      <td>1930</td>\n",
       "      <td>3</td>\n",
       "      <td>128</td>\n",
       "      <td>113</td>\n",
       "      <td>0</td>\n",
       "      <td>11</td>\n",
       "      <td>1</td>\n",
       "      <td>7</td>\n",
       "      <td>153</td>\n",
       "      <td>0</td>\n",
       "      <td>184</td>\n",
       "      <td>231</td>\n",
       "      <td>176</td>\n",
       "      <td>1</td>\n",
       "      <td>8</td>\n",
       "      <td>0</td>\n",
       "      <td>80.508333</td>\n",
       "      <td>19.989234</td>\n",
       "      <td>0.0</td>\n",
       "      <td>474.149741</td>\n",
       "      <td>66.142812</td>\n",
       "      <td>27.299807</td>\n",
       "      <td>0.0</td>\n",
       "      <td>63.482948</td>\n",
       "      <td>5.594866</td>\n",
       "      <td>22.306456</td>\n",
       "      <td>62.541808</td>\n",
       "      <td>60.222363</td>\n",
       "      <td>102.0</td>\n",
       "      <td>66.640780</td>\n",
       "      <td>19.273367</td>\n",
       "      <td>0.0</td>\n",
       "      <td>35.316076</td>\n",
       "      <td>4.000000</td>\n",
       "      <td>60.666667</td>\n",
       "      <td>55.469027</td>\n",
       "      <td>0.0</td>\n",
       "      <td>124.447371</td>\n",
       "      <td>72.502856</td>\n",
       "      <td>125.382997</td>\n",
       "      <td>140.0</td>\n",
       "      <td>0.000000</td>\n",
       "      <td>0.0</td>\n",
       "      <td>0</td>\n",
       "      <td>0</td>\n",
       "      <td>0</td>\n",
       "      <td>0</td>\n",
       "      <td>0</td>\n",
       "    </tr>\n",
       "    <tr>\n",
       "      <td>1</td>\n",
       "      <td>1</td>\n",
       "      <td>21</td>\n",
       "      <td>4</td>\n",
       "      <td>0.9921</td>\n",
       "      <td>98</td>\n",
       "      <td>239</td>\n",
       "      <td>3</td>\n",
       "      <td>0</td>\n",
       "      <td>21</td>\n",
       "      <td>88</td>\n",
       "      <td>0</td>\n",
       "      <td>4</td>\n",
       "      <td>42</td>\n",
       "      <td>113</td>\n",
       "      <td>23</td>\n",
       "      <td>3430</td>\n",
       "      <td>5</td>\n",
       "      <td>19</td>\n",
       "      <td>4</td>\n",
       "      <td>0</td>\n",
       "      <td>0</td>\n",
       "      <td>7</td>\n",
       "      <td>0</td>\n",
       "      <td>34</td>\n",
       "      <td>0</td>\n",
       "      <td>0</td>\n",
       "      <td>187</td>\n",
       "      <td>0</td>\n",
       "      <td>1</td>\n",
       "      <td>211</td>\n",
       "      <td>0</td>\n",
       "      <td>176.214286</td>\n",
       "      <td>21.201236</td>\n",
       "      <td>77.0</td>\n",
       "      <td>0.000000</td>\n",
       "      <td>292.695366</td>\n",
       "      <td>29.823646</td>\n",
       "      <td>0.0</td>\n",
       "      <td>0.000000</td>\n",
       "      <td>2.149066</td>\n",
       "      <td>16.753147</td>\n",
       "      <td>90.804380</td>\n",
       "      <td>42.197411</td>\n",
       "      <td>52.0</td>\n",
       "      <td>53.702947</td>\n",
       "      <td>0.000000</td>\n",
       "      <td>0.0</td>\n",
       "      <td>0.000000</td>\n",
       "      <td>24.285714</td>\n",
       "      <td>0.000000</td>\n",
       "      <td>74.587645</td>\n",
       "      <td>0.0</td>\n",
       "      <td>0.000000</td>\n",
       "      <td>95.829110</td>\n",
       "      <td>0.000000</td>\n",
       "      <td>0.0</td>\n",
       "      <td>82.581954</td>\n",
       "      <td>0.0</td>\n",
       "      <td>1</td>\n",
       "      <td>0</td>\n",
       "      <td>1</td>\n",
       "      <td>1</td>\n",
       "      <td>0</td>\n",
       "    </tr>\n",
       "  </tbody>\n",
       "</table>\n",
       "</div>"
      ],
      "text/plain": [
       "   Gender  Age  Education_lev  fluidIQ  freq_calls  freq_Tools  freq_Finance  \\\n",
       "0       1   23              4   0.7251         120         414             0   \n",
       "1       1   21              4   0.9921          98         239             3   \n",
       "\n",
       "   freq_Games  freq_Entertainment  freq_Productivity  freq_Personalization  \\\n",
       "0          40                  51                553                     0   \n",
       "1           0                  21                 88                     0   \n",
       "\n",
       "   freq_News...Magazines  freq_Unknown  freq_Photography  freq_Shopping  \\\n",
       "0                      8            31               260             52   \n",
       "1                      4            42               113             23   \n",
       "\n",
       "   freq_Communication  freq_Books...Reference  freq_Travel...Local  \\\n",
       "0                1930                       3                  128   \n",
       "1                3430                       5                   19   \n",
       "\n",
       "   freq_Music...Audio  freq_Medical  freq_Education  freq_Business  \\\n",
       "0                 113             0              11              1   \n",
       "1                   4             0               0              7   \n",
       "\n",
       "   freq_Lifestyle  freq_Transportation  freq_Weather  freq_Sports  \\\n",
       "0               7                  153             0          184   \n",
       "1               0                   34             0            0   \n",
       "\n",
       "   freq_Browser  freq_Health...Fitness  freq_Media...Video  freq_Social  \\\n",
       "0           231                    176                   1            8   \n",
       "1           187                      0                   1          211   \n",
       "\n",
       "   freq_Comics   dur_calls  dur_Tools  dur_Finance   dur_Games  \\\n",
       "0            0   80.508333  19.989234          0.0  474.149741   \n",
       "1            0  176.214286  21.201236         77.0    0.000000   \n",
       "\n",
       "   dur_Entertainment  dur_Productivity  dur_Personalization  \\\n",
       "0          66.142812         27.299807                  0.0   \n",
       "1         292.695366         29.823646                  0.0   \n",
       "\n",
       "   dur_News...Magazines  dur_Unknown  dur_Photography  dur_Shopping  \\\n",
       "0             63.482948     5.594866        22.306456     62.541808   \n",
       "1              0.000000     2.149066        16.753147     90.804380   \n",
       "\n",
       "   dur_Communication  dur_Books...Reference  dur_Travel...Local  \\\n",
       "0          60.222363                  102.0           66.640780   \n",
       "1          42.197411                   52.0           53.702947   \n",
       "\n",
       "   dur_Music...Audio  dur_Medical  dur_Education  dur_Business  dur_Lifestyle  \\\n",
       "0          19.273367          0.0      35.316076      4.000000      60.666667   \n",
       "1           0.000000          0.0       0.000000     24.285714       0.000000   \n",
       "\n",
       "   dur_Transportation  dur_Weather  dur_Sports  dur_Browser  \\\n",
       "0           55.469027          0.0  124.447371    72.502856   \n",
       "1           74.587645          0.0    0.000000    95.829110   \n",
       "\n",
       "   dur_Health...Fitness  dur_Media...Video  dur_Social  dur_Comics  \\\n",
       "0            125.382997              140.0    0.000000         0.0   \n",
       "1              0.000000                0.0   82.581954         0.0   \n",
       "\n",
       "   Emotional Stability  Extraversion  Openness  Conscientiousness  \\\n",
       "0                    0             0         0                  0   \n",
       "1                    1             0         1                  1   \n",
       "\n",
       "   Agreeableness  \n",
       "0              0  \n",
       "1              0  "
      ]
     },
     "execution_count": 2,
     "metadata": {},
     "output_type": "execute_result"
    }
   ],
   "source": [
    "df = pd.read_csv('data_treated/ml_pers_traits.csv', index_col=None)\n",
    "\n",
    "df.drop(columns=['Unnamed: 0'], inplace=True)\n",
    "\n",
    "print(df.shape)\n",
    "df.head(2)"
   ]
  },
  {
   "cell_type": "code",
   "execution_count": 3,
   "metadata": {},
   "outputs": [
    {
     "name": "stdout",
     "output_type": "stream",
     "text": [
      "<class 'pandas.core.frame.DataFrame'>\n",
      "RangeIndex: 137 entries, 0 to 136\n",
      "Data columns (total 63 columns):\n",
      "Gender                    137 non-null int64\n",
      "Age                       137 non-null int64\n",
      "Education_lev             137 non-null int64\n",
      "fluidIQ                   137 non-null float64\n",
      "freq_calls                137 non-null int64\n",
      "freq_Tools                137 non-null int64\n",
      "freq_Finance              137 non-null int64\n",
      "freq_Games                137 non-null int64\n",
      "freq_Entertainment        137 non-null int64\n",
      "freq_Productivity         137 non-null int64\n",
      "freq_Personalization      137 non-null int64\n",
      "freq_News...Magazines     137 non-null int64\n",
      "freq_Unknown              137 non-null int64\n",
      "freq_Photography          137 non-null int64\n",
      "freq_Shopping             137 non-null int64\n",
      "freq_Communication        137 non-null int64\n",
      "freq_Books...Reference    137 non-null int64\n",
      "freq_Travel...Local       137 non-null int64\n",
      "freq_Music...Audio        137 non-null int64\n",
      "freq_Medical              137 non-null int64\n",
      "freq_Education            137 non-null int64\n",
      "freq_Business             137 non-null int64\n",
      "freq_Lifestyle            137 non-null int64\n",
      "freq_Transportation       137 non-null int64\n",
      "freq_Weather              137 non-null int64\n",
      "freq_Sports               137 non-null int64\n",
      "freq_Browser              137 non-null int64\n",
      "freq_Health...Fitness     137 non-null int64\n",
      "freq_Media...Video        137 non-null int64\n",
      "freq_Social               137 non-null int64\n",
      "freq_Comics               137 non-null int64\n",
      "dur_calls                 137 non-null float64\n",
      "dur_Tools                 137 non-null float64\n",
      "dur_Finance               137 non-null float64\n",
      "dur_Games                 137 non-null float64\n",
      "dur_Entertainment         137 non-null float64\n",
      "dur_Productivity          137 non-null float64\n",
      "dur_Personalization       137 non-null float64\n",
      "dur_News...Magazines      137 non-null float64\n",
      "dur_Unknown               137 non-null float64\n",
      "dur_Photography           137 non-null float64\n",
      "dur_Shopping              137 non-null float64\n",
      "dur_Communication         137 non-null float64\n",
      "dur_Books...Reference     137 non-null float64\n",
      "dur_Travel...Local        137 non-null float64\n",
      "dur_Music...Audio         137 non-null float64\n",
      "dur_Medical               137 non-null float64\n",
      "dur_Education             137 non-null float64\n",
      "dur_Business              137 non-null float64\n",
      "dur_Lifestyle             137 non-null float64\n",
      "dur_Transportation        137 non-null float64\n",
      "dur_Weather               137 non-null float64\n",
      "dur_Sports                137 non-null float64\n",
      "dur_Browser               137 non-null float64\n",
      "dur_Health...Fitness      137 non-null float64\n",
      "dur_Media...Video         137 non-null float64\n",
      "dur_Social                137 non-null float64\n",
      "dur_Comics                137 non-null float64\n",
      "Emotional Stability       137 non-null int64\n",
      "Extraversion              137 non-null int64\n",
      "Openness                  137 non-null int64\n",
      "Conscientiousness         137 non-null int64\n",
      "Agreeableness             137 non-null int64\n",
      "dtypes: float64(28), int64(35)\n",
      "memory usage: 67.6 KB\n"
     ]
    }
   ],
   "source": [
    "df.info()"
   ]
  },
  {
   "cell_type": "markdown",
   "metadata": {},
   "source": [
    "## Machine Learning\n",
    "\n",
    "Load already trained classifiers and get the train and test data through a fix random_state"
   ]
  },
  {
   "cell_type": "code",
   "execution_count": 4,
   "metadata": {},
   "outputs": [],
   "source": [
    "from sklearn.model_selection import train_test_split\n",
    "\n",
    "from sklearn.linear_model import LogisticRegression\n",
    "from sklearn.svm import SVC\n",
    "from sklearn.neighbors import KNeighborsClassifier\n",
    "from sklearn.discriminant_analysis import LinearDiscriminantAnalysis\n",
    "from sklearn.ensemble import RandomForestClassifier\n",
    "\n",
    "from sklearn.metrics import accuracy_score"
   ]
  },
  {
   "cell_type": "markdown",
   "metadata": {},
   "source": [
    "#### Split data from training and test"
   ]
  },
  {
   "cell_type": "code",
   "execution_count": 5,
   "metadata": {},
   "outputs": [],
   "source": [
    "np.random.seed(1)\n",
    "X = df.iloc[:, :-5]\n",
    "Y_all_traits = df[['Emotional Stability','Extraversion','Openness','Conscientiousness','Agreeableness']]\n",
    "\n",
    "X_train, X_test, y_train_all_traits, y_test_all_traits = train_test_split(X, Y_all_traits, test_size=0.25, random_state = 74)"
   ]
  },
  {
   "cell_type": "code",
   "execution_count": 6,
   "metadata": {},
   "outputs": [
    {
     "name": "stdout",
     "output_type": "stream",
     "text": [
      "(102, 58)\n",
      "(35, 58)\n",
      "(102, 5)\n",
      "(35, 5)\n"
     ]
    }
   ],
   "source": [
    "X_train.to_csv('data_splitted/ml_X_train.csv')\n",
    "X_test.to_csv('data_splitted/ml_X_test.csv')\n",
    "\n",
    "y_train_all_traits.to_csv('data_splitted/ml_y_all_traits_train.csv')\n",
    "y_test_all_traits.to_csv('data_splitted/ml_y_all_traits_test.csv')\n",
    "\n",
    "print(X_train.shape)\n",
    "print(X_test.shape)\n",
    "# All five traits targets\n",
    "print(y_train_all_traits.shape)\n",
    "print(y_test_all_traits.shape)"
   ]
  },
  {
   "cell_type": "markdown",
   "metadata": {},
   "source": [
    "#### Load the classifiers  for LR, SVM, KNN, LDA and RF"
   ]
  },
  {
   "cell_type": "code",
   "execution_count": 7,
   "metadata": {},
   "outputs": [
    {
     "name": "stderr",
     "output_type": "stream",
     "text": [
      "/usr/local/lib/python3.7/site-packages/sklearn/externals/joblib/__init__.py:15: DeprecationWarning: sklearn.externals.joblib is deprecated in 0.21 and will be removed in 0.23. Please import this functionality directly from joblib, which can be installed with: pip install joblib. If this warning is raised when loading pickled models, you may need to re-serialize those models with scikit-learn 0.21+.\n",
      "  warnings.warn(msg, category=DeprecationWarning)\n"
     ]
    }
   ],
   "source": [
    "from sklearn.externals import joblib"
   ]
  },
  {
   "cell_type": "code",
   "execution_count": 8,
   "metadata": {},
   "outputs": [],
   "source": [
    "# Logistic Regression\n",
    "lr_models = dict()\n",
    "lr_models['esta'] = joblib.load('classifiers/logistic_regression_emotional_stability.pkl')\n",
    "lr_models['extr'] = joblib.load('classifiers/logistic_regression_extraversion.pkl')\n",
    "lr_models['open'] = joblib.load('classifiers/logistic_regression_openness.pkl')\n",
    "lr_models['consc'] = joblib.load('classifiers/logistic_regression_conscientiousness.pkl')\n",
    "lr_models['agr'] = joblib.load('classifiers/logistic_regression_agreeableness.pkl')\n",
    "\n",
    "# Support Vectors Machine\n",
    "svm_models = dict()\n",
    "svm_models['esta'] = joblib.load('classifiers/svm_emotional_stability.pkl')\n",
    "svm_models['extr'] = joblib.load('classifiers/svm_extraversion.pkl')\n",
    "svm_models['open'] = joblib.load('classifiers/svm_openness.pkl')\n",
    "svm_models['consc'] = joblib.load('classifiers/svm_conscientiousness.pkl')\n",
    "svm_models['agr'] = joblib.load('classifiers/svm_agreeableness.pkl')\n",
    "\n",
    "# K-nearest neighbors\n",
    "knn_models = dict()\n",
    "knn_models['esta'] = joblib.load('classifiers/knn_emotional_stability.pkl')\n",
    "knn_models['extr'] = joblib.load('classifiers/knn_extraversion.pkl')\n",
    "knn_models['open'] = joblib.load('classifiers/knn_openness.pkl')\n",
    "knn_models['consc'] = joblib.load('classifiers/knn_conscientiousness.pkl')\n",
    "knn_models['agr'] = joblib.load('classifiers/knn_agreeableness.pkl')\n",
    "\n",
    "# Linear Discriminant Analysis\n",
    "lda_models = dict()\n",
    "lda_models['esta'] = joblib.load('classifiers/lda_emotional_stability.pkl')\n",
    "lda_models['extr'] = joblib.load('classifiers/lda_extraversion.pkl')\n",
    "lda_models['open'] = joblib.load('classifiers/lda_openness.pkl')\n",
    "lda_models['consc'] = joblib.load('classifiers/lda_conscientiousness.pkl')\n",
    "lda_models['agr'] = joblib.load('classifiers/lda_agreeableness.pkl')\n",
    "\n",
    "# Random Forest\n",
    "rf_models = dict()\n",
    "rf_models['esta'] = joblib.load('classifiers/rf_emotional_stability.pkl')\n",
    "rf_models['extr'] = joblib.load('classifiers/rf_extraversion.pkl')\n",
    "rf_models['open'] = joblib.load('classifiers/rf_openness.pkl')\n",
    "rf_models['consc'] = joblib.load('classifiers/rf_conscientiousness.pkl')\n",
    "rf_models['agr'] = joblib.load('classifiers/rf_agreeableness.pkl')"
   ]
  },
  {
   "cell_type": "markdown",
   "metadata": {},
   "source": [
    "Logistic Regression"
   ]
  },
  {
   "cell_type": "code",
   "execution_count": 9,
   "metadata": {},
   "outputs": [
    {
     "name": "stdout",
     "output_type": "stream",
     "text": [
      "Emotional Stability: [0 1 0 1 0 0 1 0 0 1 1 0 0 1 0 0 0 0 1 1 0 1 1 0 0 0 0 1 0 0 0 0 1 0 1]\n",
      "Extraversion: [0 0 1 1 0 1 1 0 0 0 1 0 0 1 1 1 0 1 1 0 0 0 1 0 0 1 1 0 0 0 0 0 1 1 0]\n",
      "Openness: [1 0 0 1 0 0 1 1 0 1 1 0 1 1 1 0 0 1 0 0 0 0 1 0 0 1 0 0 1 0 0 0 1 0 0]\n",
      "Conscientiousness: [1 0 0 1 1 1 0 1 1 0 1 1 0 1 1 1 1 1 1 0 1 0 1 1 0 0 1 0 1 0 1 1 1 1 1]\n",
      "Agreeableness: [1 1 0 0 1 0 1 0 1 1 1 1 0 1 1 0 0 1 1 1 0 1 0 0 0 0 0 1 0 0 1 0 0 0 0]\n",
      "\n"
     ]
    }
   ],
   "source": [
    "# Test the model\n",
    "y_pred_esta = lr_models['esta'].predict(X_test)\n",
    "y_pred_extr = lr_models['extr'].predict(X_test)\n",
    "y_pred_open = lr_models['open'].predict(X_test)\n",
    "y_pred_consc = lr_models['consc'].predict(X_test)\n",
    "y_pred_agr = lr_models['agr'].predict(X_test)\n",
    "\n",
    "# Predicted Values: Just to verify that the model as correctly loaded\n",
    "print('Emotional Stability:', y_pred_esta)\n",
    "print('Extraversion:', y_pred_extr)\n",
    "print('Openness:', y_pred_open)\n",
    "print('Conscientiousness:', y_pred_consc)\n",
    "print('Agreeableness:', y_pred_agr)\n",
    "print()\n",
    "\n",
    "# Get probability estimates.\n",
    "lr_proba = dict()\n",
    "lr_proba['esta'] = lambda x: lr_models['esta'].predict_proba(x).astype(float)\n",
    "lr_proba['extr'] = lambda x: lr_models['extr'].predict_proba(x).astype(float)\n",
    "lr_proba['open'] = lambda x: lr_models['open'].predict_proba(x).astype(float)\n",
    "lr_proba['consc'] = lambda x: lr_models['consc'].predict_proba(x).astype(float)\n",
    "lr_proba['agr'] = lambda x: lr_models['agr'].predict_proba(x).astype(float)"
   ]
  },
  {
   "cell_type": "markdown",
   "metadata": {},
   "source": [
    "Support Vector Machine"
   ]
  },
  {
   "cell_type": "code",
   "execution_count": 10,
   "metadata": {},
   "outputs": [],
   "source": [
    "# Get probability estimates.\n",
    "svm_proba = dict()\n",
    "svm_proba['esta'] = lambda x: lr_models['esta'].predict_proba(x).astype(float)\n",
    "svm_proba['extr'] = lambda x: lr_models['extr'].predict_proba(x).astype(float)\n",
    "svm_proba['open'] = lambda x: lr_models['open'].predict_proba(x).astype(float)\n",
    "svm_proba['consc'] = lambda x: lr_models['consc'].predict_proba(x).astype(float)\n",
    "svm_proba['agr'] = lambda x: lr_models['agr'].predict_proba(x).astype(float)"
   ]
  },
  {
   "cell_type": "markdown",
   "metadata": {},
   "source": [
    "K-nearest neighbors"
   ]
  },
  {
   "cell_type": "code",
   "execution_count": 11,
   "metadata": {},
   "outputs": [],
   "source": [
    "# Get probability estimates.\n",
    "knn_proba = dict()\n",
    "knn_proba['esta'] = lambda x: lr_models['esta'].predict_proba(x).astype(float)\n",
    "knn_proba['extr'] = lambda x: lr_models['extr'].predict_proba(x).astype(float)\n",
    "knn_proba['open'] = lambda x: lr_models['open'].predict_proba(x).astype(float)\n",
    "knn_proba['consc'] = lambda x: lr_models['consc'].predict_proba(x).astype(float)\n",
    "knn_proba['agr'] = lambda x: lr_models['agr'].predict_proba(x).astype(float)"
   ]
  },
  {
   "cell_type": "markdown",
   "metadata": {},
   "source": [
    "Linear Discriminant Analysis"
   ]
  },
  {
   "cell_type": "code",
   "execution_count": 12,
   "metadata": {},
   "outputs": [],
   "source": [
    "# Get probability estimates.\n",
    "lda_proba = dict()\n",
    "lda_proba['esta'] = lambda x: lr_models['esta'].predict_proba(x).astype(float)\n",
    "lda_proba['extr'] = lambda x: lr_models['extr'].predict_proba(x).astype(float)\n",
    "lda_proba['open'] = lambda x: lr_models['open'].predict_proba(x).astype(float)\n",
    "lda_proba['consc'] = lambda x: lr_models['consc'].predict_proba(x).astype(float)\n",
    "lda_proba['agr'] = lambda x: lr_models['agr'].predict_proba(x).astype(float)"
   ]
  },
  {
   "cell_type": "markdown",
   "metadata": {},
   "source": [
    "Random Forest"
   ]
  },
  {
   "cell_type": "code",
   "execution_count": 13,
   "metadata": {},
   "outputs": [],
   "source": [
    "# Get probability estimates.\n",
    "rf_proba = dict()\n",
    "rf_proba['esta'] = lambda x: lr_models['esta'].predict_proba(x).astype(float)\n",
    "rf_proba['extr'] = lambda x: lr_models['extr'].predict_proba(x).astype(float)\n",
    "rf_proba['open'] = lambda x: lr_models['open'].predict_proba(x).astype(float)\n",
    "rf_proba['consc'] = lambda x: lr_models['consc'].predict_proba(x).astype(float)\n",
    "rf_proba['agr'] = lambda x: lr_models['agr'].predict_proba(x).astype(float)"
   ]
  },
  {
   "cell_type": "markdown",
   "metadata": {},
   "source": [
    "# Explainable AI"
   ]
  },
  {
   "cell_type": "code",
   "execution_count": 14,
   "metadata": {},
   "outputs": [],
   "source": [
    "from skater.core.explanations import Interpretation\n",
    "from skater.model import InMemoryModel"
   ]
  },
  {
   "cell_type": "code",
   "execution_count": 15,
   "metadata": {},
   "outputs": [],
   "source": [
    "#X_train = X_train.apply(lambda x:(x-x.min()) / (x.max()-x.min()))\n",
    "#X_test = X_test.apply(lambda x:(x-x.min()) / (x.max()-x.min()))"
   ]
  },
  {
   "cell_type": "markdown",
   "metadata": {},
   "source": [
    "### With probability scores (proba)"
   ]
  },
  {
   "cell_type": "code",
   "execution_count": 16,
   "metadata": {},
   "outputs": [],
   "source": [
    "interpreter = Interpretation(training_data=X_test.values,\n",
    "                             feature_names=X_train.columns.values)\n",
    "model = InMemoryModel(lr_models['esta'].predict_proba,\n",
    "                      examples=X_train.values)\n",
    "\n",
    "#plots = interpreter.feature_importance.plot_feature_importance(model, ascending = False)"
   ]
  },
  {
   "cell_type": "code",
   "execution_count": 17,
   "metadata": {},
   "outputs": [
    {
     "name": "stderr",
     "output_type": "stream",
     "text": [
      "2019-11-11 16:50:42,694 - skater.core.explanations - WARNING - Progress bars slow down runs by 10-20%. For slightly \n",
      "faster runs, do progress_bar=False\n"
     ]
    },
    {
     "name": "stdout",
     "output_type": "stream",
     "text": [
      "[58/58] features ████████████████████ Time elapsed: 2 seconds"
     ]
    },
    {
     "data": {
      "text/plain": [
       "dur_Comics                0.017241\n",
       "freq_Shopping             0.017241\n",
       "freq_Browser              0.017241\n",
       "freq_Sports               0.017241\n",
       "freq_Weather              0.017241\n",
       "freq_Transportation       0.017241\n",
       "freq_Lifestyle            0.017241\n",
       "freq_Business             0.017241\n",
       "freq_Education            0.017241\n",
       "freq_Medical              0.017241\n",
       "freq_Music...Audio        0.017241\n",
       "freq_Travel...Local       0.017241\n",
       "freq_Books...Reference    0.017241\n",
       "freq_Communication        0.017241\n",
       "freq_Photography          0.017241\n",
       "dur_Social                0.017241\n",
       "freq_Unknown              0.017241\n",
       "freq_News...Magazines     0.017241\n",
       "freq_Personalization      0.017241\n",
       "freq_Productivity         0.017241\n",
       "freq_Entertainment        0.017241\n",
       "freq_Games                0.017241\n",
       "freq_Finance              0.017241\n",
       "freq_Tools                0.017241\n",
       "freq_calls                0.017241\n",
       "fluidIQ                   0.017241\n",
       "Education_lev             0.017241\n",
       "Age                       0.017241\n",
       "freq_Health...Fitness     0.017241\n",
       "freq_Media...Video        0.017241\n",
       "freq_Social               0.017241\n",
       "freq_Comics               0.017241\n",
       "dur_Media...Video         0.017241\n",
       "dur_Health...Fitness      0.017241\n",
       "dur_Browser               0.017241\n",
       "dur_Sports                0.017241\n",
       "dur_Weather               0.017241\n",
       "dur_Transportation        0.017241\n",
       "dur_Lifestyle             0.017241\n",
       "dur_Business              0.017241\n",
       "dur_Education             0.017241\n",
       "dur_Medical               0.017241\n",
       "dur_Music...Audio         0.017241\n",
       "dur_Travel...Local        0.017241\n",
       "dur_Books...Reference     0.017241\n",
       "dur_Communication         0.017241\n",
       "dur_Shopping              0.017241\n",
       "dur_Photography           0.017241\n",
       "dur_Unknown               0.017241\n",
       "dur_News...Magazines      0.017241\n",
       "dur_Personalization       0.017241\n",
       "dur_Productivity          0.017241\n",
       "dur_Entertainment         0.017241\n",
       "dur_Games                 0.017241\n",
       "dur_Finance               0.017241\n",
       "dur_Tools                 0.017241\n",
       "dur_calls                 0.017241\n",
       "Gender                    0.017241\n",
       "dtype: float64"
      ]
     },
     "execution_count": 17,
     "metadata": {},
     "output_type": "execute_result"
    }
   ],
   "source": [
    "interpreter.feature_importance.feature_importance(model, ascending = False)"
   ]
  },
  {
   "cell_type": "markdown",
   "metadata": {},
   "source": [
    "### Without probability scores"
   ]
  },
  {
   "cell_type": "code",
   "execution_count": 18,
   "metadata": {},
   "outputs": [
    {
     "name": "stderr",
     "output_type": "stream",
     "text": [
      "2019-11-11 16:50:45,561 - skater.core.explanations - WARNING - Progress bars slow down runs by 10-20%. For slightly \n",
      "faster runs, do progress_bar=False\n"
     ]
    },
    {
     "name": "stdout",
     "output_type": "stream",
     "text": [
      "[58/58] features ████████████████████ Time elapsed: 2 seconds"
     ]
    },
    {
     "ename": "FeatureImportanceError",
     "evalue": "Something went wrong. Importances do not sum to a positive value\nThis could be due to:\n1) 0 or infinite divisions\n2) perturbed values == original values\n3) feature is a constant\n",
     "output_type": "error",
     "traceback": [
      "\u001b[0;31m---------------------------------------------------------------------------\u001b[0m",
      "\u001b[0;31mFeatureImportanceError\u001b[0m                    Traceback (most recent call last)",
      "\u001b[0;32m<ipython-input-18-d88fd5c9c717>\u001b[0m in \u001b[0;36m<module>\u001b[0;34m\u001b[0m\n\u001b[1;32m      3\u001b[0m     \u001b[0mexamples\u001b[0m\u001b[0;34m=\u001b[0m\u001b[0mX_train\u001b[0m\u001b[0;34m.\u001b[0m\u001b[0mvalues\u001b[0m\u001b[0;34m,\u001b[0m\u001b[0;34m\u001b[0m\u001b[0;34m\u001b[0m\u001b[0m\n\u001b[1;32m      4\u001b[0m     unique_values=lr_models['esta'].classes_)\n\u001b[0;32m----> 5\u001b[0;31m \u001b[0minterpreter\u001b[0m\u001b[0;34m.\u001b[0m\u001b[0mfeature_importance\u001b[0m\u001b[0;34m.\u001b[0m\u001b[0mfeature_importance\u001b[0m\u001b[0;34m(\u001b[0m\u001b[0mmodel_no_proba\u001b[0m\u001b[0;34m,\u001b[0m \u001b[0mascending\u001b[0m \u001b[0;34m=\u001b[0m \u001b[0;32mFalse\u001b[0m\u001b[0;34m)\u001b[0m\u001b[0;34m\u001b[0m\u001b[0;34m\u001b[0m\u001b[0m\n\u001b[0m",
      "\u001b[0;32m~/Downloads/Skater-master/skater/core/global_interpretation/feature_importance.py\u001b[0m in \u001b[0;36mfeature_importance\u001b[0;34m(self, model_instance, ascending, filter_classes, n_jobs, progressbar, n_samples, method, scorer_type, use_scaling)\u001b[0m\n\u001b[1;32m    168\u001b[0m         \u001b[0;32mif\u001b[0m \u001b[0;32mnot\u001b[0m \u001b[0mimportances\u001b[0m\u001b[0;34m.\u001b[0m\u001b[0msum\u001b[0m\u001b[0;34m(\u001b[0m\u001b[0;34m)\u001b[0m \u001b[0;34m>\u001b[0m \u001b[0;36m0\u001b[0m\u001b[0;34m:\u001b[0m\u001b[0;34m\u001b[0m\u001b[0;34m\u001b[0m\u001b[0m\n\u001b[1;32m    169\u001b[0m             \u001b[0mself\u001b[0m\u001b[0;34m.\u001b[0m\u001b[0minterpreter\u001b[0m\u001b[0;34m.\u001b[0m\u001b[0mlogger\u001b[0m\u001b[0;34m.\u001b[0m\u001b[0mdebug\u001b[0m\u001b[0;34m(\u001b[0m\u001b[0;34m\"Importances that caused a bug: {}\"\u001b[0m\u001b[0;34m.\u001b[0m\u001b[0mformat\u001b[0m\u001b[0;34m(\u001b[0m\u001b[0mimportances\u001b[0m\u001b[0;34m)\u001b[0m\u001b[0;34m)\u001b[0m\u001b[0;34m\u001b[0m\u001b[0;34m\u001b[0m\u001b[0m\n\u001b[0;32m--> 170\u001b[0;31m             raise(FeatureImportanceError(\"Something went wrong. Importances do not sum to a positive value\\n\"\n\u001b[0m\u001b[1;32m    171\u001b[0m                                          \u001b[0;34m\"This could be due to:\\n\"\u001b[0m\u001b[0;34m\u001b[0m\u001b[0;34m\u001b[0m\u001b[0m\n\u001b[1;32m    172\u001b[0m                                          \u001b[0;34m\"1) 0 or infinite divisions\\n\"\u001b[0m\u001b[0;34m\u001b[0m\u001b[0;34m\u001b[0m\u001b[0m\n",
      "\u001b[0;31mFeatureImportanceError\u001b[0m: Something went wrong. Importances do not sum to a positive value\nThis could be due to:\n1) 0 or infinite divisions\n2) perturbed values == original values\n3) feature is a constant\n"
     ]
    }
   ],
   "source": [
    "interpreter = Interpretation(X_test.values, feature_names=X_test.columns.values)\n",
    "model_no_proba = InMemoryModel(lr_models['esta'].predict, \n",
    "    examples=X_train.values, \n",
    "    unique_values=lr_models['esta'].classes_)\n",
    "interpreter.feature_importance.feature_importance(model_no_proba, ascending = False)"
   ]
  },
  {
   "cell_type": "code",
   "execution_count": null,
   "metadata": {},
   "outputs": [],
   "source": [
    "X_train"
   ]
  },
  {
   "cell_type": "code",
   "execution_count": null,
   "metadata": {},
   "outputs": [],
   "source": [
    "X_train"
   ]
  },
  {
   "cell_type": "code",
   "execution_count": null,
   "metadata": {},
   "outputs": [],
   "source": []
  },
  {
   "cell_type": "code",
   "execution_count": null,
   "metadata": {},
   "outputs": [],
   "source": []
  }
 ],
 "metadata": {
  "kernelspec": {
   "display_name": "Python 3",
   "language": "python",
   "name": "python3"
  },
  "language_info": {
   "codemirror_mode": {
    "name": "ipython",
    "version": 3
   },
   "file_extension": ".py",
   "mimetype": "text/x-python",
   "name": "python",
   "nbconvert_exporter": "python",
   "pygments_lexer": "ipython3",
   "version": "3.7.4"
  }
 },
 "nbformat": 4,
 "nbformat_minor": 2
}
